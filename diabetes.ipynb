{
 "cells": [
  {
   "cell_type": "code",
   "execution_count": 7,
   "id": "b5aed6ae",
   "metadata": {},
   "outputs": [],
   "source": [
    "import pandas as pd\n",
    "import numpy as np\n",
    "data = pd.read_csv('diabetes.csv')\n",
    "input_data = data.iloc[:,:-1]\n",
    "output_data = data.iloc[:,-1]\n"
   ]
  },
  {
   "cell_type": "code",
   "execution_count": 8,
   "id": "99ea1d5b",
   "metadata": {},
   "outputs": [],
   "source": [
    "from keras.models import Sequential\n",
    "from keras.layers import Dense\n",
    "\n",
    "model = Sequential()\n",
    "model.add(Dense(12, input_dim=8, activation='relu'))\n",
    "model.add(Dense(8,activation='relu'))\n",
    "model.add(Dense(1,activation='sigmoid'))"
   ]
  },
  {
   "cell_type": "code",
   "execution_count": 9,
   "id": "50b3fb15",
   "metadata": {},
   "outputs": [],
   "source": [
    "# معدل الخسارة والتحسين\n",
    "\n",
    "model.compile(loss='binary_crossentropy',optimizer='adam',metrics='accuracy')"
   ]
  },
  {
   "cell_type": "code",
   "execution_count": null,
   "id": "69d55ac0",
   "metadata": {},
   "outputs": [],
   "source": [
    "model.fit(input_data,output_data,epochs=50,batch_size=10)"
   ]
  },
  {
   "cell_type": "code",
   "execution_count": 11,
   "id": "6cf282f6",
   "metadata": {},
   "outputs": [
    {
     "name": "stdout",
     "output_type": "stream",
     "text": [
      "71.48 %\n"
     ]
    }
   ],
   "source": [
    "accuracy = model.evaluate(input_data,output_data,verbose = 0)\n",
    "print(\"%.2f %%\" % (accuracy[1] *100))"
   ]
  },
  {
   "cell_type": "code",
   "execution_count": null,
   "id": "b35d1082",
   "metadata": {},
   "outputs": [],
   "source": [
    "predications = (model.predict(input_data) >0.5).astype(int)\n",
    "predications"
   ]
  },
  {
   "cell_type": "code",
   "execution_count": null,
   "id": "5beab196",
   "metadata": {
    "scrolled": true
   },
   "outputs": [],
   "source": [
    "\n",
    "input_data_index_list = list(input_data)\n",
    "output_data_index_list = list(output_data.index.values)\n",
    "\n",
    "for i in range(50):\n",
    "    print(\" %s => %d (expected %d)\" %( input_data.loc[i], predications[i], output_data[i] ))"
   ]
  },
  {
   "cell_type": "code",
   "execution_count": null,
   "id": "486a97a2",
   "metadata": {},
   "outputs": [],
   "source": []
  },
  {
   "cell_type": "code",
   "execution_count": null,
   "id": "4a1edbf8",
   "metadata": {},
   "outputs": [],
   "source": []
  },
  {
   "cell_type": "code",
   "execution_count": null,
   "id": "1dee30c3",
   "metadata": {},
   "outputs": [],
   "source": []
  },
  {
   "cell_type": "code",
   "execution_count": null,
   "id": "b8636769",
   "metadata": {},
   "outputs": [],
   "source": []
  },
  {
   "cell_type": "code",
   "execution_count": null,
   "id": "3cd5624c",
   "metadata": {},
   "outputs": [],
   "source": []
  }
 ],
 "metadata": {
  "kernelspec": {
   "display_name": "Python 3 (ipykernel)",
   "language": "python",
   "name": "python3"
  },
  "language_info": {
   "codemirror_mode": {
    "name": "ipython",
    "version": 3
   },
   "file_extension": ".py",
   "mimetype": "text/x-python",
   "name": "python",
   "nbconvert_exporter": "python",
   "pygments_lexer": "ipython3",
   "version": "3.9.12"
  }
 },
 "nbformat": 4,
 "nbformat_minor": 5
}
